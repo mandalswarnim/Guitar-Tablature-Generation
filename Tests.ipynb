{
 "cells": [
  {
   "cell_type": "code",
   "execution_count": null,
   "metadata": {
    "collapsed": true
   },
   "outputs": [],
   "source": [
    "# --- some SANITY CHECKS to run ---\n",
    "%run run_sample.py\n",
    "parser.parse(input_files[0])\n",
    "seq_orig = parser.get_chord_fretting_sequence(1)\n",
    "solver.solve_multi(input_files, parser, save_files=True, verbose=2)\n",
    "seq_auto = parser.get_chord_fretting_sequence(1)\n",
    "seq_orig == seq_auto\n",
    "print([o==a for o,a in zip(seq_auto, seq_orig)])\n",
    "print([o.cost==a.cost for o,a in zip(seq_auto, seq_orig)])\n",
    "print([o.features==a.features for o,a in zip(seq_auto, seq_orig)])\n",
    "print([o._next_pitches==a.next_pitches for o,a in zip(seq_auto, seq_orig)])"
   ]
  },
  {
   "cell_type": "code",
   "execution_count": 63,
   "metadata": {
    "collapsed": true
   },
   "outputs": [],
   "source": [
    "from tabgen.definitions import *\n",
    "from tabgen.modelling import *\n",
    "from tabgen.processing import *\n",
    "from tabgen.evaluation import DummyFrettingEvaluator"
   ]
  },
  {
   "cell_type": "code",
   "execution_count": 5,
   "metadata": {},
   "outputs": [
    {
     "data": {
      "text/plain": [
       "[ChordFretting(0.125, [NoteFretting(1, 9), NoteFretting(2, 11), NoteFretting(3, 11)], DummyFrettingEvaluator(), previous_chord_fretting set?: True),\n",
       " ChordFretting(0.125, [NoteFretting(1, 9), NoteFretting(3, 6), NoteFretting(4, 6)], DummyFrettingEvaluator(), previous_chord_fretting set?: True),\n",
       " ChordFretting(0.125, [NoteFretting(2, 4), NoteFretting(3, 6), NoteFretting(4, 6)], DummyFrettingEvaluator(), previous_chord_fretting set?: True),\n",
       " ChordFretting(0.125, [NoteFretting(2, 4), NoteFretting(3, 6), NoteFretting(5, 2)], DummyFrettingEvaluator(), previous_chord_fretting set?: True),\n",
       " ChordFretting(0.125, [NoteFretting(2, 4), NoteFretting(4, 1), NoteFretting(5, 2)], DummyFrettingEvaluator(), previous_chord_fretting set?: True)]"
      ]
     },
     "execution_count": 5,
     "metadata": {},
     "output_type": "execute_result"
    }
   ],
   "source": [
    "chord = Chord(0.125, [Pitch(49), Pitch(56), Pitch(61)], False)\n",
    "chord.get_chord_frettings(StringConfig.STANDARD_24_FRETS, DummyFrettingEvaluator())"
   ]
  },
  {
   "cell_type": "code",
   "execution_count": null,
   "metadata": {
    "collapsed": true
   },
   "outputs": [],
   "source": []
  },
  {
   "cell_type": "code",
   "execution_count": null,
   "metadata": {
    "collapsed": true
   },
   "outputs": [],
   "source": []
  },
  {
   "cell_type": "code",
   "execution_count": null,
   "metadata": {
    "collapsed": true
   },
   "outputs": [],
   "source": []
  },
  {
   "cell_type": "code",
   "execution_count": 23,
   "metadata": {
    "collapsed": true
   },
   "outputs": [],
   "source": []
  },
  {
   "cell_type": "code",
   "execution_count": 24,
   "metadata": {
    "collapsed": true
   },
   "outputs": [],
   "source": [
    "# deduplicate tablatures\n",
    "import os\n",
    "os.chdir('./data/tabs_dedup')\n",
    "files = os.listdir()\n",
    "to_remove = [ff for ff in files \n",
    " if ff.endswith('.gp3') and ff.replace('.gp3','.gp4') in files\n",
    " or ff.endswith('.gp4') and ff.replace('.gp4','.gp5') in files\n",
    " or ff.endswith('.gp5') and ff.replace('.gp5','.gpx') in files\n",
    "]\n",
    "for file_ in to_remove:\n",
    "    os.remove(file_)"
   ]
  },
  {
   "cell_type": "code",
   "execution_count": 32,
   "metadata": {
    "collapsed": true
   },
   "outputs": [],
   "source": []
  },
  {
   "cell_type": "code",
   "execution_count": 36,
   "metadata": {
    "collapsed": true
   },
   "outputs": [],
   "source": []
  },
  {
   "cell_type": "code",
   "execution_count": 172,
   "metadata": {},
   "outputs": [
    {
     "data": {
      "text/plain": [
       "'(0,3) (1,2) (0,3) (1,2) (0,3) (1,2) (1,2) (4,3) (2,3) (0,3) (1,2) (2,4) (3,4) (4,4) (0,3) (1,3) (2,3'"
      ]
     },
     "execution_count": 172,
     "metadata": {},
     "output_type": "execute_result"
    }
   ],
   "source": [
    "with open('./data/niki.txt') as file:\n",
    "    lines = file.readlines()[0]\n",
    "lines[:100]"
   ]
  },
  {
   "cell_type": "code",
   "execution_count": 174,
   "metadata": {},
   "outputs": [
    {
     "data": {
      "text/plain": [
       "410"
      ]
     },
     "execution_count": 174,
     "metadata": {},
     "output_type": "execute_result"
    }
   ],
   "source": [
    "chords  = lines.split(' ')\n",
    "chords = [[nf.strip('()').split(',') for nf in c.split(';')] for c in chords]\n",
    "len(chords)"
   ]
  },
  {
   "cell_type": "code",
   "execution_count": 175,
   "metadata": {},
   "outputs": [
    {
     "data": {
      "text/plain": [
       "[[['0', '3']],\n",
       " [['1', '2']],\n",
       " [['0', '3']],\n",
       " [['1', '2']],\n",
       " [['0', '3']],\n",
       " [['1', '2']],\n",
       " [['1', '2']],\n",
       " [['4', '3']],\n",
       " [['2', '3']],\n",
       " [['0', '3']],\n",
       " [['1', '2']],\n",
       " [['2', '4']],\n",
       " [['3', '4']],\n",
       " [['4', '4']],\n",
       " [['0', '3']],\n",
       " [['1', '3']],\n",
       " [['2', '3']],\n",
       " [['1', '4']],\n",
       " [['0', '4']],\n",
       " [['3', '5']],\n",
       " [['0', '5']],\n",
       " [['1', '2']],\n",
       " [['3', '1']],\n",
       " [['1', '2']],\n",
       " [['3', '1']],\n",
       " [['1', '2']],\n",
       " [['3', '1']],\n",
       " [['3', '1']],\n",
       " [['2', '1']],\n",
       " [['0', '1']],\n",
       " [['3', '2']],\n",
       " [['3', '1']],\n",
       " [['4', '3']],\n",
       " [['5', '3']],\n",
       " [['2', '2']],\n",
       " [['3', '2']],\n",
       " [['4', '2']],\n",
       " [['5', '2']],\n",
       " [['3', '3']],\n",
       " [['2', '3']],\n",
       " [['5', '4']],\n",
       " [['2', '4']],\n",
       " [['0', '3']],\n",
       " [['2', '2']],\n",
       " [['3', '2']],\n",
       " [['3', '2']],\n",
       " [['2', '3']],\n",
       " [['5', '4']],\n",
       " [['3', '4']],\n",
       " [['0', '4']],\n",
       " [['3', '5']],\n",
       " [['3', '4']],\n",
       " [['1', '3']],\n",
       " [['2', '3']],\n",
       " [['2', '3']],\n",
       " [['1', '4']],\n",
       " [['0', '4']],\n",
       " [['3', '5']],\n",
       " [['0', '5']],\n",
       " [['2', '4']],\n",
       " [['1', '2']],\n",
       " [['0', '3']],\n",
       " [['0', '1']],\n",
       " [['2', '4']],\n",
       " [['1', '2']],\n",
       " [['0', '3']],\n",
       " [['0', '1']],\n",
       " [['2', '4']],\n",
       " [['1', '2']],\n",
       " [['8', '5']],\n",
       " [['7', '3']],\n",
       " [['4', '4']],\n",
       " [['4', '2']],\n",
       " [['0', '3']],\n",
       " [['0', '1']],\n",
       " [['10', '4']],\n",
       " [['3', '5']],\n",
       " [['3', '3']],\n",
       " [['3', '5']],\n",
       " [['2', '3']],\n",
       " [['3', '5']],\n",
       " [['1', '3']],\n",
       " [['3', '5']],\n",
       " [['0', '3']],\n",
       " [['5', '3']],\n",
       " [['4', '4']],\n",
       " [['3', '4']],\n",
       " [['1', '2']],\n",
       " [['3', '2']],\n",
       " [['2', '4']],\n",
       " [['0', '3']],\n",
       " [['1', '2']],\n",
       " [['0', '4']],\n",
       " [['1', '2']],\n",
       " [['1', '2']],\n",
       " [['0', '4']],\n",
       " [['1', '2']],\n",
       " [['2', '3']],\n",
       " [['0', '2']],\n",
       " [['1', '2']],\n",
       " [['3', '4']],\n",
       " [['3', '5']],\n",
       " [['0', '4']],\n",
       " [['0', '5']],\n",
       " [['3', '4']],\n",
       " [['2', '5']],\n",
       " [['3', '4']],\n",
       " [['0', '5']],\n",
       " [['3', '6']],\n",
       " [['3', '4']],\n",
       " [['3', '4']],\n",
       " [['5', '5']],\n",
       " [['3', '6']],\n",
       " [['3', '4']],\n",
       " [['5', '5']],\n",
       " [['2', '4']],\n",
       " [['0', '3']],\n",
       " [['1', '5']],\n",
       " [['1', '5']],\n",
       " [['0', '5']],\n",
       " [['2', '5']],\n",
       " [['3', '5']],\n",
       " [['0', '4']],\n",
       " [['2', '5']],\n",
       " [['3', '5']],\n",
       " [['5', '6']],\n",
       " [['2', '5']],\n",
       " [['3', '5']],\n",
       " [['0', '4']],\n",
       " [['2', '5']],\n",
       " [['2', '4']],\n",
       " [['3', '5']],\n",
       " [['0', '4']],\n",
       " [['2', '5']],\n",
       " [['3', '5']],\n",
       " [['0', '4']],\n",
       " [['2', '4']],\n",
       " [['3', '5']],\n",
       " [['3', '4']],\n",
       " [['5', '5']],\n",
       " [['2', '4']],\n",
       " [['3', '5']],\n",
       " [['0', '4']],\n",
       " [['2', '4']],\n",
       " [['3', '4']],\n",
       " [['0', '4']],\n",
       " [['0', '3']],\n",
       " [['2', '4']],\n",
       " [['3', '4']],\n",
       " [['5', '5']],\n",
       " [['3', '1']],\n",
       " [['8', '1']],\n",
       " [['3', '1']],\n",
       " [['8', '1']],\n",
       " [['3', '1']],\n",
       " [['8', '1']],\n",
       " [['8', '1']],\n",
       " [['7', '1']],\n",
       " [['5', '1']],\n",
       " [['8', '2']],\n",
       " [['5', '2']],\n",
       " [['5', '3']],\n",
       " [['5', '2']],\n",
       " [['7', '3']],\n",
       " [['6', '2']],\n",
       " [['4', '2']],\n",
       " [['2', '1']],\n",
       " [['5', '2']],\n",
       " [['3', '1']],\n",
       " [['4', '1']],\n",
       " [['5', '3']],\n",
       " [['5', '1']],\n",
       " [['4', '2']],\n",
       " [['4', '4']],\n",
       " [['3', '2']],\n",
       " [['5', '3']],\n",
       " [['3', '4']],\n",
       " [['2', '3']],\n",
       " [['5', '3']],\n",
       " [['8', '3']],\n",
       " [['0', '1']],\n",
       " [['0', '1']],\n",
       " [['1', '2']],\n",
       " [['0', '2']],\n",
       " [['2', '3']],\n",
       " [['4', '4']],\n",
       " [['3', '5']],\n",
       " [['2', '3']],\n",
       " [['2', '4']],\n",
       " [['7', '4']],\n",
       " [['2', '4']],\n",
       " [['2', '3']],\n",
       " [['2', '4']],\n",
       " [['2', '3']],\n",
       " [['2', '3']],\n",
       " [['0', '3']],\n",
       " [['4', '4']],\n",
       " [['2', '4']],\n",
       " [['4', '4']],\n",
       " [['4', '3']],\n",
       " [['4', '4']],\n",
       " [['0', '2']],\n",
       " [['4', '4']],\n",
       " [['0', '2']],\n",
       " [['0', '2']],\n",
       " [['2', '3']],\n",
       " [['5', '4']],\n",
       " [['4', '4']],\n",
       " [['0', '3']],\n",
       " [['2', '3']],\n",
       " [['0', '2']],\n",
       " [['1', '2']],\n",
       " [['2', '3']],\n",
       " [['4', '3']],\n",
       " [['1', '2']],\n",
       " [['3', '2']],\n",
       " [['8', '2']],\n",
       " [['7', '3']],\n",
       " [['8', '2']],\n",
       " [['7', '3']],\n",
       " [['4', '3']],\n",
       " [['3', '2']],\n",
       " [['3', '1']],\n",
       " [['4', '3']],\n",
       " [['3', '2']],\n",
       " [['3', '1']],\n",
       " [['2', '3']],\n",
       " [['1', '2']],\n",
       " [['2', '1']],\n",
       " [['0', '3']],\n",
       " [['0', '2']],\n",
       " [['0', '1']],\n",
       " [['4', '4']],\n",
       " [['2', '3']],\n",
       " [['3', '2']],\n",
       " [['0', '3']],\n",
       " [['0', '2']],\n",
       " [['0', '1']],\n",
       " [['0', '3']],\n",
       " [['0', '2']],\n",
       " [['0', '1']],\n",
       " [['0', '3']],\n",
       " [['0', '2']],\n",
       " [['0', '1']],\n",
       " [['4', '4']],\n",
       " [['2', '3']],\n",
       " [['3', '2']],\n",
       " [['7', '5']],\n",
       " [['5', '4']],\n",
       " [['5', '3']],\n",
       " [['5', '5']],\n",
       " [['4', '4']],\n",
       " [['4', '3']],\n",
       " [['7', '5']],\n",
       " [['5', '4']],\n",
       " [['5', '3']],\n",
       " [['7', '5']],\n",
       " [['5', '4']],\n",
       " [['5', '3']],\n",
       " [['7', '5']],\n",
       " [['5', '4']],\n",
       " [['5', '3']],\n",
       " [['5', '5']],\n",
       " [['4', '4']],\n",
       " [['4', '3']],\n",
       " [['3', '5']],\n",
       " [['2', '4']],\n",
       " [['2', '3']],\n",
       " [['2', '5']],\n",
       " [['0', '4']],\n",
       " [['0', '3']],\n",
       " [['0', '3']],\n",
       " [['4', '4']],\n",
       " [['2', '4']],\n",
       " [['4', '4']],\n",
       " [['0', '3']],\n",
       " [['1', '2']],\n",
       " [['2', '3']],\n",
       " [['4', '4']],\n",
       " [['5', '5']],\n",
       " [['0', '3']],\n",
       " [['0', '4']],\n",
       " [['7', '6']],\n",
       " [['5', '4']],\n",
       " [['12', '4']],\n",
       " [['0', '4']],\n",
       " [['1', '2']],\n",
       " [['0', '4']],\n",
       " [['0', '2']],\n",
       " [['0', '4']],\n",
       " [['3', '3']],\n",
       " [['5', '5']],\n",
       " [['5', '1']],\n",
       " [['7', '4']],\n",
       " [['3', '1']],\n",
       " [['2', '3']],\n",
       " [['2', '1']],\n",
       " [['2', '3']],\n",
       " [['1', '1']],\n",
       " [['2', '3']],\n",
       " [['0', '1']],\n",
       " [['5', '1']],\n",
       " [['0', '1']],\n",
       " [['5', '1']],\n",
       " [['5', '2']],\n",
       " [['5', '1']],\n",
       " [['5', '1']],\n",
       " [['8', '2']],\n",
       " [['6', '2']],\n",
       " [['5', '2']],\n",
       " [['7', '4']],\n",
       " [['6', '2']],\n",
       " [['7', '4']],\n",
       " [['6', '2']],\n",
       " [['0', '3']],\n",
       " [['0', '1']],\n",
       " [['3', '4']],\n",
       " [['3', '2']],\n",
       " [['7', '5']],\n",
       " [['5', '3']],\n",
       " [['5', '5']],\n",
       " [['3', '4']],\n",
       " [['5', '5']],\n",
       " [['3', '4']],\n",
       " [['3', '5']],\n",
       " [['2', '4']],\n",
       " [['1', '5']],\n",
       " [['0', '4']],\n",
       " [['5', '6']],\n",
       " [['3', '5']],\n",
       " [['3', '3']],\n",
       " [['3', '3']],\n",
       " [['3', '3']],\n",
       " [['3', '3']],\n",
       " [['5', '4']],\n",
       " [['7', '4']],\n",
       " [['5', '3']],\n",
       " [['6', '5']],\n",
       " [['6', '5']],\n",
       " [['5', '5']],\n",
       " [['7', '5']],\n",
       " [['8', '5']],\n",
       " [['5', '4']],\n",
       " [['7', '5']],\n",
       " [['8', '5']],\n",
       " [['5', '5']],\n",
       " [['7', '5']],\n",
       " [['8', '5']],\n",
       " [['0', '3']],\n",
       " [['0', '4']],\n",
       " [['2', '3']],\n",
       " [['3', '4']],\n",
       " [['0', '3']],\n",
       " [['2', '4']],\n",
       " [['4', '4']],\n",
       " [['2', '3']],\n",
       " [['4', '3']],\n",
       " [['5', '3']],\n",
       " [['3', '2']],\n",
       " [['4', '3']],\n",
       " [['5', '3']],\n",
       " [['2', '3']],\n",
       " [['0', '2']],\n",
       " [['5', '3']],\n",
       " [['7', '3']],\n",
       " [['5', '2']],\n",
       " [['6', '2']],\n",
       " [['7', '3']],\n",
       " [['5', '2']],\n",
       " [['6', '2']],\n",
       " [['8', '2']],\n",
       " [['8', '1']],\n",
       " [['3', '1']],\n",
       " [['8', '1']],\n",
       " [['3', '1']],\n",
       " [['8', '1']],\n",
       " [['8', '1']],\n",
       " [['7', '1']],\n",
       " [['5', '1']],\n",
       " [['8', '2']],\n",
       " [['5', '1']],\n",
       " [['5', '1']],\n",
       " [['5', '1']],\n",
       " [['8', '2']],\n",
       " [['6', '2']],\n",
       " [['0', '2']],\n",
       " [['0', '1']],\n",
       " [['1', '2']],\n",
       " [['1', '1']],\n",
       " [['5', '3']],\n",
       " [['6', '2']],\n",
       " [['1', '2']],\n",
       " [['1', '1']],\n",
       " [['0', '2']],\n",
       " [['0', '1']],\n",
       " [['2', '3']],\n",
       " [['3', '2']],\n",
       " [['5', '4']],\n",
       " [['5', '3']],\n",
       " [['5', '3']],\n",
       " [['4', '3']],\n",
       " [['7', '4']],\n",
       " [['4', '3']],\n",
       " [['5', '3']],\n",
       " [['6', '2']],\n",
       " [['7', '3']],\n",
       " [['4', '3']],\n",
       " [['5', '3']],\n",
       " [['7', '5']],\n",
       " [['5', '3']]]"
      ]
     },
     "execution_count": 175,
     "metadata": {},
     "output_type": "execute_result"
    }
   ],
   "source": [
    "chords"
   ]
  },
  {
   "cell_type": "code",
   "execution_count": 140,
   "metadata": {},
   "outputs": [],
   "source": [
    "seq_niki = ChordFrettingSequence([])\n",
    "ev = DummyFrettingEvaluator()\n",
    "cfg = StringConfig.STANDARD_24_FRETS\n",
    "\n",
    "for chord in chords:\n",
    "    for pair in chord:\n",
    "        notes = []\n",
    "        string = 7 - int(pair[1])\n",
    "        fret = int(pair[0])\n",
    "        notes.append(NoteFretting(string, fret))\n",
    "        seq_niki.append(ChordFretting(1.0, notes, ev, None, [], cfg, False))"
   ]
  },
  {
   "cell_type": "code",
   "execution_count": 149,
   "metadata": {},
   "outputs": [
    {
     "name": "stdout",
     "output_type": "stream",
     "text": [
      "Importing XML: ./data/evaluation_input/Bach_Goes_to_Town.mscz.mscx\n"
     ]
    }
   ],
   "source": [
    "parser = Parser(evaluator=DummyFrettingEvaluator())\n",
    "parser.parse('./data/evaluation_input/Bach_Goes_to_Town.mscz.mscx')"
   ]
  },
  {
   "cell_type": "code",
   "execution_count": 137,
   "metadata": {},
   "outputs": [
    {
     "name": "stdout",
     "output_type": "stream",
     "text": [
      "\n",
      "E ----------------------------------3--3--3--2----------------------------------------------\n",
      "B ----------1-----1-----------------------------3-----2--4-----------3----------------------\n",
      "G -0--0--0-----2--------0--2-----------------------4--------3-----0--------------2--------0-\n",
      "D -------------------3--------0--------------------------------5--------5-----3-----0-------\n",
      "A -------------------------------0-----------------------------------------5-----------0----\n",
      "E ------------------------------------------------------------------------------------------\n"
     ]
    }
   ],
   "source": [
    "seq_niki.to_ascii_tab(cfg, do_print=True, n_first=30)"
   ]
  },
  {
   "cell_type": "code",
   "execution_count": null,
   "metadata": {
    "collapsed": true
   },
   "outputs": [],
   "source": [
    "FeatureConfig.CHORDS_AS_NOTES = True"
   ]
  },
  {
   "cell_type": "code",
   "execution_count": 138,
   "metadata": {},
   "outputs": [],
   "source": [
    "\n",
    "parser.update_chord_fretting_sequence(1, seq)"
   ]
  },
  {
   "cell_type": "code",
   "execution_count": 150,
   "metadata": {
    "collapsed": true
   },
   "outputs": [],
   "source": [
    "seq_orig = parser.get_chord_fretting_sequence(1)"
   ]
  },
  {
   "cell_type": "code",
   "execution_count": 139,
   "metadata": {},
   "outputs": [
    {
     "name": "stderr",
     "output_type": "stream",
     "text": [
      "updating: 100%|██████████████████████████████████████████████████████████████████| 1/1 [00:00<00:00, 60.50instrument/s]\n"
     ]
    }
   ],
   "source": [
    "parser.save('./data/niki_out.mscx')"
   ]
  },
  {
   "cell_type": "code",
   "execution_count": 141,
   "metadata": {},
   "outputs": [
    {
     "name": "stdout",
     "output_type": "stream",
     "text": [
      "Importing XML: ./data/evaluation_output/Bach_Goes_to_Town.mscz_lstm.mscx\n"
     ]
    }
   ],
   "source": [
    "parser.parse('./data/evaluation_output/Bach_Goes_to_Town.mscz_lstm.mscx')"
   ]
  },
  {
   "cell_type": "code",
   "execution_count": 142,
   "metadata": {
    "collapsed": true
   },
   "outputs": [],
   "source": [
    "seq_elias = parser.get_chord_fretting_sequence(1)"
   ]
  },
  {
   "cell_type": "code",
   "execution_count": 230,
   "metadata": {},
   "outputs": [
    {
     "data": {
      "text/plain": [
       "85.5036855036855"
      ]
     },
     "execution_count": 230,
     "metadata": {},
     "output_type": "execute_result"
    }
   ],
   "source": [
    "Solver.get_accuracy(seq_niki_2, seq_orig)"
   ]
  },
  {
   "cell_type": "code",
   "execution_count": 153,
   "metadata": {},
   "outputs": [
    {
     "data": {
      "text/plain": [
       "13.022113022113022"
      ]
     },
     "execution_count": 153,
     "metadata": {},
     "output_type": "execute_result"
    }
   ],
   "source": [
    "Solver.get_accuracy(seq_elias, seq_orig)"
   ]
  },
  {
   "cell_type": "code",
   "execution_count": 231,
   "metadata": {},
   "outputs": [
    {
     "data": {
      "text/plain": [
       "8.108108108108109"
      ]
     },
     "execution_count": 231,
     "metadata": {},
     "output_type": "execute_result"
    }
   ],
   "source": [
    "Solver.get_accuracy(seq_niki_2, seq_elias)"
   ]
  },
  {
   "cell_type": "code",
   "execution_count": 159,
   "metadata": {},
   "outputs": [
    {
     "data": {
      "text/plain": [
       "[ChordFretting(1.0, [NoteFretting(1, 17), NoteFretting(2, 0), NoteFretting(3, 2)], DummyFrettingEvaluator(), previous_chord_fretting set?: True),\n",
       " ChordFretting(1.0, [NoteFretting(1, 5), NoteFretting(2, 12), NoteFretting(3, 2)], DummyFrettingEvaluator(), previous_chord_fretting set?: True),\n",
       " ChordFretting(1.0, [NoteFretting(1, 12), NoteFretting(2, 0), NoteFretting(3, 7)], DummyFrettingEvaluator(), previous_chord_fretting set?: True),\n",
       " ChordFretting(1.0, [NoteFretting(1, 5), NoteFretting(2, 7), NoteFretting(3, 7)], DummyFrettingEvaluator(), previous_chord_fretting set?: True),\n",
       " ChordFretting(1.0, [NoteFretting(1, 12), NoteFretting(2, 0), NoteFretting(4, 2)], DummyFrettingEvaluator(), previous_chord_fretting set?: True),\n",
       " ChordFretting(1.0, [NoteFretting(1, 5), NoteFretting(2, 7), NoteFretting(4, 2)], DummyFrettingEvaluator(), previous_chord_fretting set?: True),\n",
       " ChordFretting(1.0, [NoteFretting(1, 5), NoteFretting(3, 2), NoteFretting(4, 2)], DummyFrettingEvaluator(), previous_chord_fretting set?: True),\n",
       " ChordFretting(1.0, [NoteFretting(2, 0), NoteFretting(3, 2), NoteFretting(4, 2)], DummyFrettingEvaluator(), previous_chord_fretting set?: True)]"
      ]
     },
     "execution_count": 159,
     "metadata": {},
     "output_type": "execute_result"
    }
   ],
   "source": [
    "Chord(1.0, [45,52,57], False).get_chord_frettings(StringConfig.STANDARD_24_FRETS, DummyFrettingEvaluator())"
   ]
  },
  {
   "cell_type": "code",
   "execution_count": 176,
   "metadata": {},
   "outputs": [
    {
     "name": "stdout",
     "output_type": "stream",
     "text": [
      "Importing XML: ./data/niki_out.mscx\n"
     ]
    }
   ],
   "source": [
    "parser.parse('./data/niki_out.mscx')"
   ]
  },
  {
   "cell_type": "code",
   "execution_count": 178,
   "metadata": {},
   "outputs": [
    {
     "data": {
      "text/plain": [
       "[2]"
      ]
     },
     "execution_count": 178,
     "metadata": {},
     "output_type": "execute_result"
    }
   ],
   "source": [
    "parser.instrument_ids"
   ]
  },
  {
   "cell_type": "code",
   "execution_count": 179,
   "metadata": {},
   "outputs": [],
   "source": [
    "seq_niki_2 = parser.get_chord_fretting_sequence(2)"
   ]
  },
  {
   "cell_type": "code",
   "execution_count": 181,
   "metadata": {},
   "outputs": [
    {
     "name": "stdout",
     "output_type": "stream",
     "text": [
      "\n",
      "E -------------------------------------------------------------------3-----3-----3--3--2--0-\n",
      "B ----1-----1-----1--1--0--------1--------------------------------1-----1-----1-------------\n",
      "G -0-----0-----0-----------2--0--------------0--1--2----------------------------------------\n",
      "D ----------------------------------2--3--4-----------1--0----------------------------------\n",
      "A ----------------------------------------------------------3--0----------------------------\n",
      "E ------------------------------------------------------------------------------------------\n"
     ]
    }
   ],
   "source": [
    "seq_niki_2.to_ascii_tab(StringConfig.STANDARD_24_FRETS, do_print=True, n_first=30)"
   ]
  },
  {
   "cell_type": "code",
   "execution_count": 228,
   "metadata": {},
   "outputs": [
    {
     "data": {
      "text/plain": [
       "85.5036855036855"
      ]
     },
     "execution_count": 228,
     "metadata": {},
     "output_type": "execute_result"
    }
   ],
   "source": [
    "Solver.get_accuracy(seq_niki_2, seq_orig, detail=True)"
   ]
  },
  {
   "cell_type": "code",
   "execution_count": null,
   "metadata": {
    "collapsed": true
   },
   "outputs": [],
   "source": []
  },
  {
   "cell_type": "code",
   "execution_count": null,
   "metadata": {
    "collapsed": true
   },
   "outputs": [],
   "source": []
  },
  {
   "cell_type": "code",
   "execution_count": 224,
   "metadata": {},
   "outputs": [
    {
     "name": "stdout",
     "output_type": "stream",
     "text": [
      "NoteFretting(3, 5) NoteFretting(4, 0)\n",
      "NoteFretting(4, 5) NoteFretting(5, 1)\n",
      "NoteFretting(3, 5) NoteFretting(4, 0)\n",
      "NoteFretting(4, 5) NoteFretting(5, 1)\n",
      "NoteFretting(3, 5) NoteFretting(4, 0)\n",
      "NoteFretting(4, 5) NoteFretting(5, 1)\n",
      "NoteFretting(4, 5) NoteFretting(5, 1)\n",
      "NoteFretting(4, 4) NoteFretting(5, 0)\n",
      "NoteFretting(4, 5) NoteFretting(5, 1)\n",
      "NoteFretting(5, 8) NoteFretting(6, 3)\n",
      "NoteFretting(4, 5) NoteFretting(5, 1)\n",
      "NoteFretting(5, 8) NoteFretting(6, 3)\n",
      "NoteFretting(4, 5) NoteFretting(5, 1)\n",
      "NoteFretting(5, 8) NoteFretting(6, 3)\n",
      "NoteFretting(5, 8) NoteFretting(6, 3)\n",
      "NoteFretting(5, 7) NoteFretting(6, 2)\n",
      "NoteFretting(5, 5) NoteFretting(6, 0)\n",
      "NoteFretting(3, 5) NoteFretting(4, 0)\n",
      "NoteFretting(5, 5) NoteFretting(6, 0)\n",
      "NoteFretting(3, 5) NoteFretting(4, 0)\n",
      "NoteFretting(5, 5) NoteFretting(6, 0)\n",
      "NoteFretting(3, 5) NoteFretting(4, 0)\n",
      "NoteFretting(5, 5) NoteFretting(6, 0)\n",
      "NoteFretting(4, 4) NoteFretting(5, 0)\n",
      "NoteFretting(4, 5) NoteFretting(5, 1)\n",
      "NoteFretting(2, 5) NoteFretting(3, 0)\n",
      "NoteFretting(3, 0) NoteFretting(2, 5)\n",
      "NoteFretting(3, 0) NoteFretting(2, 5)\n",
      "NoteFretting(5, 8) NoteFretting(6, 3)\n",
      "NoteFretting(5, 8) NoteFretting(6, 3)\n",
      "NoteFretting(5, 8) NoteFretting(6, 3)\n",
      "NoteFretting(5, 8) NoteFretting(6, 3)\n",
      "NoteFretting(4, 5) NoteFretting(5, 1)\n",
      "NoteFretting(4, 4) NoteFretting(5, 0)\n",
      "NoteFretting(4, 4) NoteFretting(5, 0)\n",
      "NoteFretting(4, 4) NoteFretting(5, 0)\n",
      "NoteFretting(4, 4) NoteFretting(5, 0)\n",
      "NoteFretting(4, 4) NoteFretting(5, 0)\n",
      "NoteFretting(4, 4) NoteFretting(5, 0)\n",
      "NoteFretting(3, 0) NoteFretting(2, 5)\n",
      "NoteFretting(3, 7) NoteFretting(4, 2)\n",
      "NoteFretting(5, 8) NoteFretting(6, 3)\n",
      "NoteFretting(3, 7) NoteFretting(4, 2)\n",
      "NoteFretting(5, 7) NoteFretting(6, 2)\n",
      "NoteFretting(3, 7) NoteFretting(4, 2)\n",
      "NoteFretting(5, 6) NoteFretting(6, 1)\n",
      "NoteFretting(3, 7) NoteFretting(4, 2)\n",
      "NoteFretting(5, 5) NoteFretting(6, 0)\n",
      "NoteFretting(5, 5) NoteFretting(6, 0)\n",
      "NoteFretting(5, 5) NoteFretting(6, 0)\n",
      "NoteFretting(3, 0) NoteFretting(2, 5)\n",
      "NoteFretting(3, 0) NoteFretting(2, 5)\n",
      "NoteFretting(5, 6) NoteFretting(6, 1)\n",
      "NoteFretting(4, 7) NoteFretting(5, 3)\n",
      "NoteFretting(5, 5) NoteFretting(6, 0)\n",
      "NoteFretting(5, 6) NoteFretting(6, 1)\n",
      "NoteFretting(5, 8) NoteFretting(6, 3)\n",
      "NoteFretting(5, 8) NoteFretting(6, 3)\n",
      "NoteFretting(5, 8) NoteFretting(6, 3)\n"
     ]
    }
   ],
   "source": [
    "sequence_generated = seq_niki_2\n",
    "sequence_original = seq_orig\n",
    "\n",
    "n_same = 0\n",
    "n_diff = 0\n",
    "for oo, gg in zip(sequence_original, sequence_generated):\n",
    "     for onf, gnf in  zip(sorted(oo.note_frettings, key=lambda nf: nf.string),\n",
    "                          sorted(gg.note_frettings, key=lambda nf: nf.string)):\n",
    "        n_same += int(onf == gnf)\n",
    "        if not onf==gnf:\n",
    "            print(onf, gnf)\n",
    "            n_diff += 1"
   ]
  }
 ],
 "metadata": {
  "kernelspec": {
   "display_name": "Python 3",
   "language": "python",
   "name": "python3"
  },
  "language_info": {
   "codemirror_mode": {
    "name": "ipython",
    "version": 3
   },
   "file_extension": ".py",
   "mimetype": "text/x-python",
   "name": "python",
   "nbconvert_exporter": "python",
   "pygments_lexer": "ipython3",
   "version": "3.5.3"
  }
 },
 "nbformat": 4,
 "nbformat_minor": 2
}
